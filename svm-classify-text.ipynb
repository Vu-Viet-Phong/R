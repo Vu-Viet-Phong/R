{
 "cells": [
  {
   "cell_type": "code",
   "execution_count": 10,
   "metadata": {},
   "outputs": [
    {
     "name": "stderr",
     "output_type": "stream",
     "text": [
      "Loading required package: SparseM\n",
      "\n",
      "\n",
      "Attaching package: 'SparseM'\n",
      "\n",
      "\n",
      "The following object is masked from 'package:base':\n",
      "\n",
      "    backsolve\n",
      "\n",
      "\n"
     ]
    }
   ],
   "source": [
    "library(RTextTools)"
   ]
  },
  {
   "cell_type": "code",
   "execution_count": 1,
   "metadata": {},
   "outputs": [],
   "source": [
    "# Read the data\n",
    "data <- read.csv('data/sunnyData.csv')"
   ]
  },
  {
   "cell_type": "code",
   "execution_count": 2,
   "metadata": {},
   "outputs": [
    {
     "data": {
      "text/html": [
       "<table class=\"dataframe\">\n",
       "<caption>A data.frame: 11 × 2</caption>\n",
       "<thead>\n",
       "\t<tr><th scope=col>Text</th><th scope=col>IsSunny</th></tr>\n",
       "\t<tr><th scope=col>&lt;chr&gt;</th><th scope=col>&lt;int&gt;</th></tr>\n",
       "</thead>\n",
       "<tbody>\n",
       "\t<tr><td>sunny            </td><td> 1</td></tr>\n",
       "\t<tr><td>rainy            </td><td>-1</td></tr>\n",
       "\t<tr><td>sunny sunny      </td><td> 1</td></tr>\n",
       "\t<tr><td>sunny rainy      </td><td>-1</td></tr>\n",
       "\t<tr><td>rainy sunny      </td><td>-1</td></tr>\n",
       "\t<tr><td>rainy rainy      </td><td>-1</td></tr>\n",
       "\t<tr><td>sunny sunny sunny</td><td> 1</td></tr>\n",
       "\t<tr><td>sunny rainy sunny</td><td> 1</td></tr>\n",
       "\t<tr><td>sunny sunny rainy</td><td> 1</td></tr>\n",
       "\t<tr><td>rainy sunny sunny</td><td> 1</td></tr>\n",
       "\t<tr><td>rainy rainy sunny</td><td>-1</td></tr>\n",
       "</tbody>\n",
       "</table>\n"
      ],
      "text/latex": [
       "A data.frame: 11 × 2\n",
       "\\begin{tabular}{ll}\n",
       " Text & IsSunny\\\\\n",
       " <chr> & <int>\\\\\n",
       "\\hline\n",
       "\t sunny             &  1\\\\\n",
       "\t rainy             & -1\\\\\n",
       "\t sunny sunny       &  1\\\\\n",
       "\t sunny rainy       & -1\\\\\n",
       "\t rainy sunny       & -1\\\\\n",
       "\t rainy rainy       & -1\\\\\n",
       "\t sunny sunny sunny &  1\\\\\n",
       "\t sunny rainy sunny &  1\\\\\n",
       "\t sunny sunny rainy &  1\\\\\n",
       "\t rainy sunny sunny &  1\\\\\n",
       "\t rainy rainy sunny & -1\\\\\n",
       "\\end{tabular}\n"
      ],
      "text/markdown": [
       "\n",
       "A data.frame: 11 × 2\n",
       "\n",
       "| Text &lt;chr&gt; | IsSunny &lt;int&gt; |\n",
       "|---|---|\n",
       "| sunny             |  1 |\n",
       "| rainy             | -1 |\n",
       "| sunny sunny       |  1 |\n",
       "| sunny rainy       | -1 |\n",
       "| rainy sunny       | -1 |\n",
       "| rainy rainy       | -1 |\n",
       "| sunny sunny sunny |  1 |\n",
       "| sunny rainy sunny |  1 |\n",
       "| sunny sunny rainy |  1 |\n",
       "| rainy sunny sunny |  1 |\n",
       "| rainy rainy sunny | -1 |\n",
       "\n"
      ],
      "text/plain": [
       "   Text              IsSunny\n",
       "1  sunny              1     \n",
       "2  rainy             -1     \n",
       "3  sunny sunny        1     \n",
       "4  sunny rainy       -1     \n",
       "5  rainy sunny       -1     \n",
       "6  rainy rainy       -1     \n",
       "7  sunny sunny sunny  1     \n",
       "8  sunny rainy sunny  1     \n",
       "9  sunny sunny rainy  1     \n",
       "10 rainy sunny sunny  1     \n",
       "11 rainy rainy sunny -1     "
      ]
     },
     "metadata": {},
     "output_type": "display_data"
    }
   ],
   "source": [
    "data"
   ]
  },
  {
   "cell_type": "code",
   "execution_count": 11,
   "metadata": {},
   "outputs": [
    {
     "name": "stderr",
     "output_type": "stream",
     "text": [
      "Warning message in TermDocumentMatrix.SimpleCorpus(x, control):\n",
      "\"custom functions are ignored\"\n",
      "Warning message in TermDocumentMatrix.SimpleCorpus(x, control):\n",
      "\"custom tokenizer is ignored\"\n"
     ]
    }
   ],
   "source": [
    "# Create the document term matrix\n",
    "dtMatrix <- create_matrix(data[\"Text\"])"
   ]
  },
  {
   "cell_type": "code",
   "execution_count": 12,
   "metadata": {},
   "outputs": [
    {
     "data": {
      "text/plain": [
       "<<DocumentTermMatrix (documents: 11, terms: 2)>>\n",
       "Non-/sparse entries: 17/5\n",
       "Sparsity           : 23%\n",
       "Maximal term length: 5\n",
       "Weighting          : term frequency (tf)"
      ]
     },
     "metadata": {},
     "output_type": "display_data"
    }
   ],
   "source": [
    "dtMatrix"
   ]
  },
  {
   "cell_type": "markdown",
   "metadata": {},
   "source": [
    "Create and train the SVM model"
   ]
  },
  {
   "cell_type": "code",
   "execution_count": 16,
   "metadata": {},
   "outputs": [],
   "source": [
    "# Configure the training data\n",
    "container <- create_container(dtMatrix, data$IsSunny, trainSize=1:11, virgin=FALSE)"
   ]
  },
  {
   "cell_type": "code",
   "execution_count": 17,
   "metadata": {},
   "outputs": [
    {
     "data": {
      "text/plain": [
       "An object of class \"matrix_container\"\n",
       "Slot \"training_matrix\":\n",
       "An object of class \"matrix.csr\"\n",
       "Slot \"ra\":\n",
       " [1] 1 1 2 1 1 1 1 2 3 1 2 1 2 1 2 2 1\n",
       "\n",
       "Slot \"ja\":\n",
       " [1] 2 1 2 1 2 1 2 1 2 1 2 1 2 1 2 1 2\n",
       "\n",
       "Slot \"ia\":\n",
       " [1]  1  2  3  4  6  8  9 10 12 14 16 18\n",
       "\n",
       "Slot \"dimension\":\n",
       "[1] 11  2\n",
       "\n",
       "\n",
       "Slot \"classification_matrix\":\n",
       "An object of class \"matrix.csr\"\n",
       "Slot \"ra\":\n",
       " [1] 1 1 2 1 1 1 1 2 3 1 2 1 2 1 2 2 1\n",
       "\n",
       "Slot \"ja\":\n",
       " [1] 2 1 2 1 2 1 2 1 2 1 2 1 2 1 2 1 2\n",
       "\n",
       "Slot \"ia\":\n",
       " [1]  1  2  3  4  6  8  9 10 12 14 16 18\n",
       "\n",
       "Slot \"dimension\":\n",
       "[1] 11  2\n",
       "\n",
       "\n",
       "Slot \"training_codes\":\n",
       " [1] 1  -1 1  -1 -1 -1 1  1  1  1  -1\n",
       "Levels: -1 1\n",
       "\n",
       "Slot \"testing_codes\":\n",
       " [1] 1  -1 1  -1 -1 -1 1  1  1  1  -1\n",
       "Levels: -1 1\n",
       "\n",
       "Slot \"column_names\":\n",
       "[1] \"rainy\" \"sunny\"\n",
       "\n",
       "Slot \"virgin\":\n",
       "[1] FALSE\n"
      ]
     },
     "metadata": {},
     "output_type": "display_data"
    }
   ],
   "source": [
    "container"
   ]
  },
  {
   "cell_type": "code",
   "execution_count": null,
   "metadata": {},
   "outputs": [],
   "source": [
    "# Train a SVM Model\n",
    "model <- train_model(container, \"SVM\", kernel=\"linear\", cost=1)"
   ]
  },
  {
   "cell_type": "code",
   "execution_count": 18,
   "metadata": {},
   "outputs": [
    {
     "data": {
      "text/plain": [
       "\n",
       "Call:\n",
       "svm.default(x = container@training_matrix, y = container@training_codes, \n",
       "    kernel = kernel, cost = cost, cross = cross, probability = TRUE, \n",
       "    method = method)\n",
       "\n",
       "\n",
       "Parameters:\n",
       "   SVM-Type:  C-classification \n",
       " SVM-Kernel:  linear \n",
       "       cost:  1 \n",
       "\n",
       "Number of Support Vectors:  4\n"
      ]
     },
     "metadata": {},
     "output_type": "display_data"
    }
   ],
   "source": [
    "model"
   ]
  },
  {
   "cell_type": "markdown",
   "metadata": {},
   "source": [
    "### Predict with new data"
   ]
  },
  {
   "cell_type": "code",
   "execution_count": 20,
   "metadata": {},
   "outputs": [],
   "source": [
    "# New data\n",
    "predictionData <- list(\"sunny sunny sunny rainy rainy\", \"rainy sunny rainy rainy\", \"hello\", \"\", \"this is another rainy world\")"
   ]
  },
  {
   "cell_type": "code",
   "execution_count": 21,
   "metadata": {},
   "outputs": [
    {
     "data": {
      "text/html": [
       "<ol>\n",
       "\t<li>'sunny sunny sunny rainy rainy'</li>\n",
       "\t<li>'rainy sunny rainy rainy'</li>\n",
       "\t<li>'hello'</li>\n",
       "\t<li>''</li>\n",
       "\t<li>'this is another rainy world'</li>\n",
       "</ol>\n"
      ],
      "text/latex": [
       "\\begin{enumerate}\n",
       "\\item 'sunny sunny sunny rainy rainy'\n",
       "\\item 'rainy sunny rainy rainy'\n",
       "\\item 'hello'\n",
       "\\item ''\n",
       "\\item 'this is another rainy world'\n",
       "\\end{enumerate}\n"
      ],
      "text/markdown": [
       "1. 'sunny sunny sunny rainy rainy'\n",
       "2. 'rainy sunny rainy rainy'\n",
       "3. 'hello'\n",
       "4. ''\n",
       "5. 'this is another rainy world'\n",
       "\n",
       "\n"
      ],
      "text/plain": [
       "[[1]]\n",
       "[1] \"sunny sunny sunny rainy rainy\"\n",
       "\n",
       "[[2]]\n",
       "[1] \"rainy sunny rainy rainy\"\n",
       "\n",
       "[[3]]\n",
       "[1] \"hello\"\n",
       "\n",
       "[[4]]\n",
       "[1] \"\"\n",
       "\n",
       "[[5]]\n",
       "[1] \"this is another rainy world\"\n"
      ]
     },
     "metadata": {},
     "output_type": "display_data"
    }
   ],
   "source": [
    "predictionData"
   ]
  },
  {
   "cell_type": "markdown",
   "metadata": {},
   "source": [
    "Create a document term matrix for the test data:"
   ]
  },
  {
   "cell_type": "code",
   "execution_count": 22,
   "metadata": {},
   "outputs": [
    {
     "name": "stderr",
     "output_type": "stream",
     "text": [
      "Warning message in TermDocumentMatrix.SimpleCorpus(x, control):\n",
      "\"custom functions are ignored\"\n",
      "Warning message in TermDocumentMatrix.SimpleCorpus(x, control):\n",
      "\"custom tokenizer is ignored\"\n"
     ]
    }
   ],
   "source": [
    "# Create a prediction document term matrix\n",
    "predMatrix <- create_matrix(predictionData, originalMatrix=dtMatrix)\n"
   ]
  },
  {
   "cell_type": "code",
   "execution_count": 23,
   "metadata": {},
   "outputs": [
    {
     "data": {
      "text/plain": [
       "<<DocumentTermMatrix (documents: 5, terms: 2)>>\n",
       "Non-/sparse entries: 5/5\n",
       "Sparsity           : 50%\n",
       "Maximal term length: 5\n",
       "Weighting          : term frequency (tf)"
      ]
     },
     "metadata": {},
     "output_type": "display_data"
    }
   ],
   "source": [
    "predMatrix"
   ]
  },
  {
   "cell_type": "code",
   "execution_count": 25,
   "metadata": {},
   "outputs": [],
   "source": [
    "# Create the corresponding container\n",
    "predSize = length(predictionData);\n",
    "predictionContainer <- create_container(predMatrix, labels=rep(0,predSize), testSize=1:predSize, virgin=FALSE)"
   ]
  },
  {
   "cell_type": "code",
   "execution_count": 26,
   "metadata": {},
   "outputs": [
    {
     "data": {
      "text/html": [
       "<table class=\"dataframe\">\n",
       "<caption>A data.frame: 5 × 2</caption>\n",
       "<thead>\n",
       "\t<tr><th></th><th scope=col>SVM_LABEL</th><th scope=col>SVM_PROB</th></tr>\n",
       "\t<tr><th></th><th scope=col>&lt;chr&gt;</th><th scope=col>&lt;dbl&gt;</th></tr>\n",
       "</thead>\n",
       "<tbody>\n",
       "\t<tr><th scope=row>1</th><td>1 </td><td>0.7410242</td></tr>\n",
       "\t<tr><th scope=row>2</th><td>-1</td><td>0.8654268</td></tr>\n",
       "\t<tr><th scope=row>3</th><td>1 </td><td>0.5201127</td></tr>\n",
       "\t<tr><th scope=row>4</th><td>1 </td><td>0.5201127</td></tr>\n",
       "\t<tr><th scope=row>5</th><td>-1</td><td>0.7089542</td></tr>\n",
       "</tbody>\n",
       "</table>\n"
      ],
      "text/latex": [
       "A data.frame: 5 × 2\n",
       "\\begin{tabular}{r|ll}\n",
       "  & SVM\\_LABEL & SVM\\_PROB\\\\\n",
       "  & <chr> & <dbl>\\\\\n",
       "\\hline\n",
       "\t1 & 1  & 0.7410242\\\\\n",
       "\t2 & -1 & 0.8654268\\\\\n",
       "\t3 & 1  & 0.5201127\\\\\n",
       "\t4 & 1  & 0.5201127\\\\\n",
       "\t5 & -1 & 0.7089542\\\\\n",
       "\\end{tabular}\n"
      ],
      "text/markdown": [
       "\n",
       "A data.frame: 5 × 2\n",
       "\n",
       "| <!--/--> | SVM_LABEL &lt;chr&gt; | SVM_PROB &lt;dbl&gt; |\n",
       "|---|---|---|\n",
       "| 1 | 1  | 0.7410242 |\n",
       "| 2 | -1 | 0.8654268 |\n",
       "| 3 | 1  | 0.5201127 |\n",
       "| 4 | 1  | 0.5201127 |\n",
       "| 5 | -1 | 0.7089542 |\n",
       "\n"
      ],
      "text/plain": [
       "  SVM_LABEL SVM_PROB \n",
       "1 1         0.7410242\n",
       "2 -1        0.8654268\n",
       "3 1         0.5201127\n",
       "4 1         0.5201127\n",
       "5 -1        0.7089542"
      ]
     },
     "metadata": {},
     "output_type": "display_data"
    }
   ],
   "source": [
    "# Predict\n",
    "results <- classify_model(predictionContainer, model)\n",
    "results"
   ]
  }
 ],
 "metadata": {
  "kernelspec": {
   "display_name": "R",
   "language": "R",
   "name": "ir"
  },
  "language_info": {
   "codemirror_mode": "r",
   "file_extension": ".r",
   "mimetype": "text/x-r-source",
   "name": "R",
   "pygments_lexer": "r",
   "version": "4.1.2"
  },
  "orig_nbformat": 4
 },
 "nbformat": 4,
 "nbformat_minor": 2
}
