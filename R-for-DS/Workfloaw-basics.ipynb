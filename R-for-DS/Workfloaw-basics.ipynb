{
 "cells": [
  {
   "cell_type": "markdown",
   "metadata": {},
   "source": [
    "# Workflow: basic"
   ]
  },
  {
   "cell_type": "markdown",
   "metadata": {},
   "source": [
    "## Coding basics"
   ]
  },
  {
   "cell_type": "code",
   "execution_count": 1,
   "metadata": {},
   "outputs": [
    {
     "data": {
      "text/html": [
       "0.15"
      ],
      "text/latex": [
       "0.15"
      ],
      "text/markdown": [
       "0.15"
      ],
      "text/plain": [
       "[1] 0.15"
      ]
     },
     "metadata": {},
     "output_type": "display_data"
    }
   ],
   "source": [
    "1 / 200 * 30"
   ]
  },
  {
   "cell_type": "code",
   "execution_count": 2,
   "metadata": {},
   "outputs": [
    {
     "data": {
      "text/html": [
       "44.6666666666667"
      ],
      "text/latex": [
       "44.6666666666667"
      ],
      "text/markdown": [
       "44.6666666666667"
      ],
      "text/plain": [
       "[1] 44.66667"
      ]
     },
     "metadata": {},
     "output_type": "display_data"
    }
   ],
   "source": [
    "(59 + 73 + 2) / 3"
   ]
  },
  {
   "cell_type": "code",
   "execution_count": 3,
   "metadata": {},
   "outputs": [
    {
     "data": {
      "text/html": [
       "1"
      ],
      "text/latex": [
       "1"
      ],
      "text/markdown": [
       "1"
      ],
      "text/plain": [
       "[1] 1"
      ]
     },
     "metadata": {},
     "output_type": "display_data"
    }
   ],
   "source": [
    "sin(pi / 2)"
   ]
  },
  {
   "cell_type": "markdown",
   "metadata": {},
   "source": [
    "Create new objects with <- :"
   ]
  },
  {
   "cell_type": "code",
   "execution_count": 10,
   "metadata": {},
   "outputs": [
    {
     "data": {
      "text/html": [
       "12"
      ],
      "text/latex": [
       "12"
      ],
      "text/markdown": [
       "12"
      ],
      "text/plain": [
       "[1] 12"
      ]
     },
     "metadata": {},
     "output_type": "display_data"
    }
   ],
   "source": [
    "x <- 3 * 4\n",
    "x"
   ]
  },
  {
   "cell_type": "code",
   "execution_count": 7,
   "metadata": {},
   "outputs": [
    {
     "data": {
      "text/html": [
       "10"
      ],
      "text/latex": [
       "10"
      ],
      "text/markdown": [
       "10"
      ],
      "text/plain": [
       "[1] 10"
      ]
     },
     "metadata": {},
     "output_type": "display_data"
    }
   ],
   "source": [
    "value <- 10\n",
    "object_name <- value\n",
    "object_name"
   ]
  },
  {
   "cell_type": "code",
   "execution_count": 9,
   "metadata": {},
   "outputs": [
    {
     "data": {
      "text/html": [
       "8"
      ],
      "text/latex": [
       "8"
      ],
      "text/markdown": [
       "8"
      ],
      "text/plain": [
       "[1] 8"
      ]
     },
     "metadata": {},
     "output_type": "display_data"
    }
   ],
   "source": [
    "r_rocks <- 2 ^ 3\n",
    "r_rocks"
   ]
  },
  {
   "cell_type": "markdown",
   "metadata": {},
   "source": [
    "## Calling functions"
   ]
  },
  {
   "cell_type": "code",
   "execution_count": 11,
   "metadata": {},
   "outputs": [
    {
     "data": {
      "text/html": [
       "<style>\n",
       ".list-inline {list-style: none; margin:0; padding: 0}\n",
       ".list-inline>li {display: inline-block}\n",
       ".list-inline>li:not(:last-child)::after {content: \"\\00b7\"; padding: 0 .5ex}\n",
       "</style>\n",
       "<ol class=list-inline><li>1</li><li>2</li><li>3</li><li>4</li><li>5</li><li>6</li><li>7</li><li>8</li><li>9</li><li>10</li></ol>\n"
      ],
      "text/latex": [
       "\\begin{enumerate*}\n",
       "\\item 1\n",
       "\\item 2\n",
       "\\item 3\n",
       "\\item 4\n",
       "\\item 5\n",
       "\\item 6\n",
       "\\item 7\n",
       "\\item 8\n",
       "\\item 9\n",
       "\\item 10\n",
       "\\end{enumerate*}\n"
      ],
      "text/markdown": [
       "1. 1\n",
       "2. 2\n",
       "3. 3\n",
       "4. 4\n",
       "5. 5\n",
       "6. 6\n",
       "7. 7\n",
       "8. 8\n",
       "9. 9\n",
       "10. 10\n",
       "\n",
       "\n"
      ],
      "text/plain": [
       " [1]  1  2  3  4  5  6  7  8  9 10"
      ]
     },
     "metadata": {},
     "output_type": "display_data"
    }
   ],
   "source": [
    "seq(1, 10)"
   ]
  },
  {
   "cell_type": "code",
   "execution_count": 16,
   "metadata": {},
   "outputs": [
    {
     "data": {
      "text/html": [
       "<style>\n",
       ".list-inline {list-style: none; margin:0; padding: 0}\n",
       ".list-inline>li {display: inline-block}\n",
       ".list-inline>li:not(:last-child)::after {content: \"\\00b7\"; padding: 0 .5ex}\n",
       "</style>\n",
       "<ol class=list-inline><li>1</li><li>3.25</li><li>5.5</li><li>7.75</li><li>10</li></ol>\n"
      ],
      "text/latex": [
       "\\begin{enumerate*}\n",
       "\\item 1\n",
       "\\item 3.25\n",
       "\\item 5.5\n",
       "\\item 7.75\n",
       "\\item 10\n",
       "\\end{enumerate*}\n"
      ],
      "text/markdown": [
       "1. 1\n",
       "2. 3.25\n",
       "3. 5.5\n",
       "4. 7.75\n",
       "5. 10\n",
       "\n",
       "\n"
      ],
      "text/plain": [
       "[1]  1.00  3.25  5.50  7.75 10.00"
      ]
     },
     "metadata": {},
     "output_type": "display_data"
    }
   ],
   "source": [
    "y <- seq(1, 10, length.out = 5)"
   ]
  },
  {
   "cell_type": "code",
   "execution_count": 17,
   "metadata": {},
   "outputs": [
    {
     "data": {
      "text/html": [
       "<style>\n",
       ".list-inline {list-style: none; margin:0; padding: 0}\n",
       ".list-inline>li {display: inline-block}\n",
       ".list-inline>li:not(:last-child)::after {content: \"\\00b7\"; padding: 0 .5ex}\n",
       "</style>\n",
       "<ol class=list-inline><li>1</li><li>3.25</li><li>5.5</li><li>7.75</li><li>10</li></ol>\n"
      ],
      "text/latex": [
       "\\begin{enumerate*}\n",
       "\\item 1\n",
       "\\item 3.25\n",
       "\\item 5.5\n",
       "\\item 7.75\n",
       "\\item 10\n",
       "\\end{enumerate*}\n"
      ],
      "text/markdown": [
       "1. 1\n",
       "2. 3.25\n",
       "3. 5.5\n",
       "4. 7.75\n",
       "5. 10\n",
       "\n",
       "\n"
      ],
      "text/plain": [
       "[1]  1.00  3.25  5.50  7.75 10.00"
      ]
     },
     "metadata": {},
     "output_type": "display_data"
    }
   ],
   "source": [
    "y"
   ]
  },
  {
   "cell_type": "code",
   "execution_count": 18,
   "metadata": {},
   "outputs": [
    {
     "data": {
      "text/html": [
       "<style>\n",
       ".list-inline {list-style: none; margin:0; padding: 0}\n",
       ".list-inline>li {display: inline-block}\n",
       ".list-inline>li:not(:last-child)::after {content: \"\\00b7\"; padding: 0 .5ex}\n",
       "</style>\n",
       "<ol class=list-inline><li>1</li><li>3.25</li><li>5.5</li><li>7.75</li><li>10</li></ol>\n"
      ],
      "text/latex": [
       "\\begin{enumerate*}\n",
       "\\item 1\n",
       "\\item 3.25\n",
       "\\item 5.5\n",
       "\\item 7.75\n",
       "\\item 10\n",
       "\\end{enumerate*}\n"
      ],
      "text/markdown": [
       "1. 1\n",
       "2. 3.25\n",
       "3. 5.5\n",
       "4. 7.75\n",
       "5. 10\n",
       "\n",
       "\n"
      ],
      "text/plain": [
       "[1]  1.00  3.25  5.50  7.75 10.00"
      ]
     },
     "metadata": {},
     "output_type": "display_data"
    }
   ],
   "source": [
    "(y <- seq(1, 10, length.out = 5))"
   ]
  },
  {
   "cell_type": "markdown",
   "metadata": {},
   "source": [
    "### Exercises:"
   ]
  },
  {
   "cell_type": "code",
   "execution_count": 27,
   "metadata": {},
   "outputs": [],
   "source": [
    "library(tidyverse) "
   ]
  },
  {
   "cell_type": "code",
   "execution_count": 28,
   "metadata": {},
   "outputs": [
    {
     "name": "stderr",
     "output_type": "stream",
     "text": [
      "ERROR while rich displaying an object: Error in FUN(X[[i]], ...): object 'displ' not found\n",
      "\n",
      "Traceback:\n",
      "1. FUN(X[[i]], ...)\n",
      "2. tryCatch(withCallingHandlers({\n",
      " .     if (!mime %in% names(repr::mime2repr)) \n",
      " .         stop(\"No repr_* for mimetype \", mime, \" in repr::mime2repr\")\n",
      " .     rpr <- repr::mime2repr[[mime]](obj)\n",
      " .     if (is.null(rpr)) \n",
      " .         return(NULL)\n",
      " .     prepare_content(is.raw(rpr), rpr)\n",
      " . }, error = error_handler), error = outer_handler)\n",
      "3. tryCatchList(expr, classes, parentenv, handlers)\n",
      "4. tryCatchOne(expr, names, parentenv, handlers[[1L]])\n",
      "5. doTryCatch(return(expr), name, parentenv, handler)\n",
      "6. withCallingHandlers({\n",
      " .     if (!mime %in% names(repr::mime2repr)) \n",
      " .         stop(\"No repr_* for mimetype \", mime, \" in repr::mime2repr\")\n",
      " .     rpr <- repr::mime2repr[[mime]](obj)\n",
      " .     if (is.null(rpr)) \n",
      " .         return(NULL)\n",
      " .     prepare_content(is.raw(rpr), rpr)\n",
      " . }, error = error_handler)\n",
      "7. repr::mime2repr[[mime]](obj)\n",
      "8. repr_text.default(obj)\n",
      "9. paste(capture.output(print(obj)), collapse = \"\\n\")\n",
      "10. capture.output(print(obj))\n",
      "11. withVisible(...elt(i))\n",
      "12. print(obj)\n",
      "13. print.ggplot(obj)\n",
      "14. ggplot_build(x)\n",
      "15. ggplot_build.ggplot(x)\n",
      "16. by_layer(function(l, d) l$compute_aesthetics(d, plot))\n",
      "17. f(l = layers[[i]], d = data[[i]])\n",
      "18. l$compute_aesthetics(d, plot)\n",
      "19. f(..., self = self)\n",
      "20. scales_add_defaults(plot$scales, data, aesthetics, plot$plot_env)\n",
      "21. lapply(aesthetics[new_aesthetics], eval_tidy, data = data)\n",
      "22. FUN(X[[i]], ...)\n"
     ]
    },
    {
     "data": {
      "image/png": "[encoded data removed]",
      "text/plain": [
       "plot without title"
      ]
     },
     "metadata": {
      "image/png": {
       "height": 420,
       "width": 420
      }
     },
     "output_type": "display_data"
    }
   ],
   "source": [
    "ggplot(dota = mpg) + \n",
    "    geom_point(mapping = aes(x = displ, y = hwy))"
   ]
  },
  {
   "cell_type": "markdown",
   "metadata": {},
   "source": [
    "This error is a result of a typo, dota instead of data."
   ]
  },
  {
   "cell_type": "code",
   "execution_count": 34,
   "metadata": {},
   "outputs": [
    {
     "data": {
      "image/png": "[encoded data removed]",
      "text/plain": [
       "plot without title"
      ]
     },
     "metadata": {
      "image/png": {
       "height": 420,
       "width": 420
      }
     },
     "output_type": "display_data"
    }
   ],
   "source": [
    "# Fix\n",
    "ggplot(data = mpg) + \n",
    "    geom_point(mapping = aes(x = displ, y = hwy))"
   ]
  },
  {
   "cell_type": "code",
   "execution_count": 29,
   "metadata": {},
   "outputs": [
    {
     "ename": "ERROR",
     "evalue": "Error in fliter(mpg, cyl = 8): could not find function \"fliter\"\n",
     "output_type": "error",
     "traceback": [
      "Error in fliter(mpg, cyl = 8): could not find function \"fliter\"\nTraceback:\n"
     ]
    }
   ],
   "source": [
    "fliter(mpg, cyl = 8)"
   ]
  },
  {
   "cell_type": "markdown",
   "metadata": {},
   "source": [
    "R could not find the function fliter() because we made a typo: fliter instead of filter."
   ]
  },
  {
   "cell_type": "code",
   "execution_count": 33,
   "metadata": {},
   "outputs": [
    {
     "data": {
      "text/html": [
       "<table class=\"dataframe\">\n",
       "<caption>A tibble: 70 × 11</caption>\n",
       "<thead>\n",
       "\t<tr><th scope=col>manufacturer</th><th scope=col>model</th><th scope=col>displ</th><th scope=col>year</th><th scope=col>cyl</th><th scope=col>trans</th><th scope=col>drv</th><th scope=col>cty</th><th scope=col>hwy</th><th scope=col>fl</th><th scope=col>class</th></tr>\n",
       "\t<tr><th scope=col>&lt;chr&gt;</th><th scope=col>&lt;chr&gt;</th><th scope=col>&lt;dbl&gt;</th><th scope=col>&lt;int&gt;</th><th scope=col>&lt;int&gt;</th><th scope=col>&lt;chr&gt;</th><th scope=col>&lt;chr&gt;</th><th scope=col>&lt;int&gt;</th><th scope=col>&lt;int&gt;</th><th scope=col>&lt;chr&gt;</th><th scope=col>&lt;chr&gt;</th></tr>\n",
       "</thead>\n",
       "<tbody>\n",
       "\t<tr><td>audi     </td><td>a6 quattro         </td><td>4.2</td><td>2008</td><td>8</td><td>auto(s6)  </td><td>4</td><td>16</td><td>23</td><td>p</td><td>midsize</td></tr>\n",
       "\t<tr><td>chevrolet</td><td>c1500 suburban 2wd </td><td>5.3</td><td>2008</td><td>8</td><td>auto(l4)  </td><td>r</td><td>14</td><td>20</td><td>r</td><td>suv    </td></tr>\n",
       "\t<tr><td>chevrolet</td><td>c1500 suburban 2wd </td><td>5.3</td><td>2008</td><td>8</td><td>auto(l4)  </td><td>r</td><td>11</td><td>15</td><td>e</td><td>suv    </td></tr>\n",
       "\t<tr><td>chevrolet</td><td>c1500 suburban 2wd </td><td>5.3</td><td>2008</td><td>8</td><td>auto(l4)  </td><td>r</td><td>14</td><td>20</td><td>r</td><td>suv    </td></tr>\n",
       "\t<tr><td>chevrolet</td><td>c1500 suburban 2wd </td><td>5.7</td><td>1999</td><td>8</td><td>auto(l4)  </td><td>r</td><td>13</td><td>17</td><td>r</td><td>suv    </td></tr>\n",
       "\t<tr><td>chevrolet</td><td>c1500 suburban 2wd </td><td>6.0</td><td>2008</td><td>8</td><td>auto(l4)  </td><td>r</td><td>12</td><td>17</td><td>r</td><td>suv    </td></tr>\n",
       "\t<tr><td>chevrolet</td><td>corvette           </td><td>5.7</td><td>1999</td><td>8</td><td>manual(m6)</td><td>r</td><td>16</td><td>26</td><td>p</td><td>2seater</td></tr>\n",
       "\t<tr><td>chevrolet</td><td>corvette           </td><td>5.7</td><td>1999</td><td>8</td><td>auto(l4)  </td><td>r</td><td>15</td><td>23</td><td>p</td><td>2seater</td></tr>\n",
       "\t<tr><td>chevrolet</td><td>corvette           </td><td>6.2</td><td>2008</td><td>8</td><td>manual(m6)</td><td>r</td><td>16</td><td>26</td><td>p</td><td>2seater</td></tr>\n",
       "\t<tr><td>chevrolet</td><td>corvette           </td><td>6.2</td><td>2008</td><td>8</td><td>auto(s6)  </td><td>r</td><td>15</td><td>25</td><td>p</td><td>2seater</td></tr>\n",
       "\t<tr><td>chevrolet</td><td>corvette           </td><td>7.0</td><td>2008</td><td>8</td><td>manual(m6)</td><td>r</td><td>15</td><td>24</td><td>p</td><td>2seater</td></tr>\n",
       "\t<tr><td>chevrolet</td><td>k1500 tahoe 4wd    </td><td>5.3</td><td>2008</td><td>8</td><td>auto(l4)  </td><td>4</td><td>14</td><td>19</td><td>r</td><td>suv    </td></tr>\n",
       "\t<tr><td>chevrolet</td><td>k1500 tahoe 4wd    </td><td>5.3</td><td>2008</td><td>8</td><td>auto(l4)  </td><td>4</td><td>11</td><td>14</td><td>e</td><td>suv    </td></tr>\n",
       "\t<tr><td>chevrolet</td><td>k1500 tahoe 4wd    </td><td>5.7</td><td>1999</td><td>8</td><td>auto(l4)  </td><td>4</td><td>11</td><td>15</td><td>r</td><td>suv    </td></tr>\n",
       "\t<tr><td>chevrolet</td><td>k1500 tahoe 4wd    </td><td>6.5</td><td>1999</td><td>8</td><td>auto(l4)  </td><td>4</td><td>14</td><td>17</td><td>d</td><td>suv    </td></tr>\n",
       "\t<tr><td>dodge    </td><td>dakota pickup 4wd  </td><td>4.7</td><td>2008</td><td>8</td><td>auto(l5)  </td><td>4</td><td>14</td><td>19</td><td>r</td><td>pickup </td></tr>\n",
       "\t<tr><td>dodge    </td><td>dakota pickup 4wd  </td><td>4.7</td><td>2008</td><td>8</td><td>auto(l5)  </td><td>4</td><td>14</td><td>19</td><td>r</td><td>pickup </td></tr>\n",
       "\t<tr><td>dodge    </td><td>dakota pickup 4wd  </td><td>4.7</td><td>2008</td><td>8</td><td>auto(l5)  </td><td>4</td><td> 9</td><td>12</td><td>e</td><td>pickup </td></tr>\n",
       "\t<tr><td>dodge    </td><td>dakota pickup 4wd  </td><td>5.2</td><td>1999</td><td>8</td><td>manual(m5)</td><td>4</td><td>11</td><td>17</td><td>r</td><td>pickup </td></tr>\n",
       "\t<tr><td>dodge    </td><td>dakota pickup 4wd  </td><td>5.2</td><td>1999</td><td>8</td><td>auto(l4)  </td><td>4</td><td>11</td><td>15</td><td>r</td><td>pickup </td></tr>\n",
       "\t<tr><td>dodge    </td><td>durango 4wd        </td><td>4.7</td><td>2008</td><td>8</td><td>auto(l5)  </td><td>4</td><td>13</td><td>17</td><td>r</td><td>suv    </td></tr>\n",
       "\t<tr><td>dodge    </td><td>durango 4wd        </td><td>4.7</td><td>2008</td><td>8</td><td>auto(l5)  </td><td>4</td><td> 9</td><td>12</td><td>e</td><td>suv    </td></tr>\n",
       "\t<tr><td>dodge    </td><td>durango 4wd        </td><td>4.7</td><td>2008</td><td>8</td><td>auto(l5)  </td><td>4</td><td>13</td><td>17</td><td>r</td><td>suv    </td></tr>\n",
       "\t<tr><td>dodge    </td><td>durango 4wd        </td><td>5.2</td><td>1999</td><td>8</td><td>auto(l4)  </td><td>4</td><td>11</td><td>16</td><td>r</td><td>suv    </td></tr>\n",
       "\t<tr><td>dodge    </td><td>durango 4wd        </td><td>5.7</td><td>2008</td><td>8</td><td>auto(l5)  </td><td>4</td><td>13</td><td>18</td><td>r</td><td>suv    </td></tr>\n",
       "\t<tr><td>dodge    </td><td>durango 4wd        </td><td>5.9</td><td>1999</td><td>8</td><td>auto(l4)  </td><td>4</td><td>11</td><td>15</td><td>r</td><td>suv    </td></tr>\n",
       "\t<tr><td>dodge    </td><td>ram 1500 pickup 4wd</td><td>4.7</td><td>2008</td><td>8</td><td>manual(m6)</td><td>4</td><td>12</td><td>16</td><td>r</td><td>pickup </td></tr>\n",
       "\t<tr><td>dodge    </td><td>ram 1500 pickup 4wd</td><td>4.7</td><td>2008</td><td>8</td><td>auto(l5)  </td><td>4</td><td> 9</td><td>12</td><td>e</td><td>pickup </td></tr>\n",
       "\t<tr><td>dodge    </td><td>ram 1500 pickup 4wd</td><td>4.7</td><td>2008</td><td>8</td><td>auto(l5)  </td><td>4</td><td>13</td><td>17</td><td>r</td><td>pickup </td></tr>\n",
       "\t<tr><td>dodge    </td><td>ram 1500 pickup 4wd</td><td>4.7</td><td>2008</td><td>8</td><td>auto(l5)  </td><td>4</td><td>13</td><td>17</td><td>r</td><td>pickup </td></tr>\n",
       "\t<tr><td>...</td><td>...</td><td>...</td><td>...</td><td>...</td><td>...</td><td>...</td><td>...</td><td>...</td><td>...</td><td>...</td></tr>\n",
       "\t<tr><td>ford      </td><td>explorer 4wd          </td><td>5.0</td><td>1999</td><td>8</td><td>auto(l4)  </td><td>4</td><td>13</td><td>17</td><td>r</td><td>suv       </td></tr>\n",
       "\t<tr><td>ford      </td><td>f150 pickup 4wd       </td><td>4.6</td><td>1999</td><td>8</td><td>manual(m5)</td><td>4</td><td>13</td><td>16</td><td>r</td><td>pickup    </td></tr>\n",
       "\t<tr><td>ford      </td><td>f150 pickup 4wd       </td><td>4.6</td><td>1999</td><td>8</td><td>auto(l4)  </td><td>4</td><td>13</td><td>16</td><td>r</td><td>pickup    </td></tr>\n",
       "\t<tr><td>ford      </td><td>f150 pickup 4wd       </td><td>4.6</td><td>2008</td><td>8</td><td>auto(l4)  </td><td>4</td><td>13</td><td>17</td><td>r</td><td>pickup    </td></tr>\n",
       "\t<tr><td>ford      </td><td>f150 pickup 4wd       </td><td>5.4</td><td>1999</td><td>8</td><td>auto(l4)  </td><td>4</td><td>11</td><td>15</td><td>r</td><td>pickup    </td></tr>\n",
       "\t<tr><td>ford      </td><td>f150 pickup 4wd       </td><td>5.4</td><td>2008</td><td>8</td><td>auto(l4)  </td><td>4</td><td>13</td><td>17</td><td>r</td><td>pickup    </td></tr>\n",
       "\t<tr><td>ford      </td><td>mustang               </td><td>4.6</td><td>1999</td><td>8</td><td>auto(l4)  </td><td>r</td><td>15</td><td>21</td><td>r</td><td>subcompact</td></tr>\n",
       "\t<tr><td>ford      </td><td>mustang               </td><td>4.6</td><td>1999</td><td>8</td><td>manual(m5)</td><td>r</td><td>15</td><td>22</td><td>r</td><td>subcompact</td></tr>\n",
       "\t<tr><td>ford      </td><td>mustang               </td><td>4.6</td><td>2008</td><td>8</td><td>manual(m5)</td><td>r</td><td>15</td><td>23</td><td>r</td><td>subcompact</td></tr>\n",
       "\t<tr><td>ford      </td><td>mustang               </td><td>4.6</td><td>2008</td><td>8</td><td>auto(l5)  </td><td>r</td><td>15</td><td>22</td><td>r</td><td>subcompact</td></tr>\n",
       "\t<tr><td>ford      </td><td>mustang               </td><td>5.4</td><td>2008</td><td>8</td><td>manual(m6)</td><td>r</td><td>14</td><td>20</td><td>p</td><td>subcompact</td></tr>\n",
       "\t<tr><td>jeep      </td><td>grand cherokee 4wd    </td><td>4.7</td><td>1999</td><td>8</td><td>auto(l4)  </td><td>4</td><td>14</td><td>17</td><td>r</td><td>suv       </td></tr>\n",
       "\t<tr><td>jeep      </td><td>grand cherokee 4wd    </td><td>4.7</td><td>2008</td><td>8</td><td>auto(l5)  </td><td>4</td><td> 9</td><td>12</td><td>e</td><td>suv       </td></tr>\n",
       "\t<tr><td>jeep      </td><td>grand cherokee 4wd    </td><td>4.7</td><td>2008</td><td>8</td><td>auto(l5)  </td><td>4</td><td>14</td><td>19</td><td>r</td><td>suv       </td></tr>\n",
       "\t<tr><td>jeep      </td><td>grand cherokee 4wd    </td><td>5.7</td><td>2008</td><td>8</td><td>auto(l5)  </td><td>4</td><td>13</td><td>18</td><td>r</td><td>suv       </td></tr>\n",
       "\t<tr><td>jeep      </td><td>grand cherokee 4wd    </td><td>6.1</td><td>2008</td><td>8</td><td>auto(l5)  </td><td>4</td><td>11</td><td>14</td><td>p</td><td>suv       </td></tr>\n",
       "\t<tr><td>land rover</td><td>range rover           </td><td>4.0</td><td>1999</td><td>8</td><td>auto(l4)  </td><td>4</td><td>11</td><td>15</td><td>p</td><td>suv       </td></tr>\n",
       "\t<tr><td>land rover</td><td>range rover           </td><td>4.2</td><td>2008</td><td>8</td><td>auto(s6)  </td><td>4</td><td>12</td><td>18</td><td>r</td><td>suv       </td></tr>\n",
       "\t<tr><td>land rover</td><td>range rover           </td><td>4.4</td><td>2008</td><td>8</td><td>auto(s6)  </td><td>4</td><td>12</td><td>18</td><td>r</td><td>suv       </td></tr>\n",
       "\t<tr><td>land rover</td><td>range rover           </td><td>4.6</td><td>1999</td><td>8</td><td>auto(l4)  </td><td>4</td><td>11</td><td>15</td><td>p</td><td>suv       </td></tr>\n",
       "\t<tr><td>lincoln   </td><td>navigator 2wd         </td><td>5.4</td><td>1999</td><td>8</td><td>auto(l4)  </td><td>r</td><td>11</td><td>17</td><td>r</td><td>suv       </td></tr>\n",
       "\t<tr><td>lincoln   </td><td>navigator 2wd         </td><td>5.4</td><td>1999</td><td>8</td><td>auto(l4)  </td><td>r</td><td>11</td><td>16</td><td>p</td><td>suv       </td></tr>\n",
       "\t<tr><td>lincoln   </td><td>navigator 2wd         </td><td>5.4</td><td>2008</td><td>8</td><td>auto(l6)  </td><td>r</td><td>12</td><td>18</td><td>r</td><td>suv       </td></tr>\n",
       "\t<tr><td>mercury   </td><td>mountaineer 4wd       </td><td>4.6</td><td>2008</td><td>8</td><td>auto(l6)  </td><td>4</td><td>13</td><td>19</td><td>r</td><td>suv       </td></tr>\n",
       "\t<tr><td>mercury   </td><td>mountaineer 4wd       </td><td>5.0</td><td>1999</td><td>8</td><td>auto(l4)  </td><td>4</td><td>13</td><td>17</td><td>r</td><td>suv       </td></tr>\n",
       "\t<tr><td>nissan    </td><td>pathfinder 4wd        </td><td>5.6</td><td>2008</td><td>8</td><td>auto(s5)  </td><td>4</td><td>12</td><td>18</td><td>p</td><td>suv       </td></tr>\n",
       "\t<tr><td>pontiac   </td><td>grand prix            </td><td>5.3</td><td>2008</td><td>8</td><td>auto(s4)  </td><td>f</td><td>16</td><td>25</td><td>p</td><td>midsize   </td></tr>\n",
       "\t<tr><td>toyota    </td><td>4runner 4wd           </td><td>4.7</td><td>2008</td><td>8</td><td>auto(l5)  </td><td>4</td><td>14</td><td>17</td><td>r</td><td>suv       </td></tr>\n",
       "\t<tr><td>toyota    </td><td>land cruiser wagon 4wd</td><td>4.7</td><td>1999</td><td>8</td><td>auto(l4)  </td><td>4</td><td>11</td><td>15</td><td>r</td><td>suv       </td></tr>\n",
       "\t<tr><td>toyota    </td><td>land cruiser wagon 4wd</td><td>5.7</td><td>2008</td><td>8</td><td>auto(s6)  </td><td>4</td><td>13</td><td>18</td><td>r</td><td>suv       </td></tr>\n",
       "</tbody>\n",
       "</table>\n"
      ],
      "text/latex": [
       "A tibble: 70 × 11\n",
       "\\begin{tabular}{lllllllllll}\n",
       " manufacturer & model & displ & year & cyl & trans & drv & cty & hwy & fl & class\\\\\n",
       " <chr> & <chr> & <dbl> & <int> & <int> & <chr> & <chr> & <int> & <int> & <chr> & <chr>\\\\\n",
       "\\hline\n",
       "\t audi      & a6 quattro          & 4.2 & 2008 & 8 & auto(s6)   & 4 & 16 & 23 & p & midsize\\\\\n",
       "\t chevrolet & c1500 suburban 2wd  & 5.3 & 2008 & 8 & auto(l4)   & r & 14 & 20 & r & suv    \\\\\n",
       "\t chevrolet & c1500 suburban 2wd  & 5.3 & 2008 & 8 & auto(l4)   & r & 11 & 15 & e & suv    \\\\\n",
       "\t chevrolet & c1500 suburban 2wd  & 5.3 & 2008 & 8 & auto(l4)   & r & 14 & 20 & r & suv    \\\\\n",
       "\t chevrolet & c1500 suburban 2wd  & 5.7 & 1999 & 8 & auto(l4)   & r & 13 & 17 & r & suv    \\\\\n",
       "\t chevrolet & c1500 suburban 2wd  & 6.0 & 2008 & 8 & auto(l4)   & r & 12 & 17 & r & suv    \\\\\n",
       "\t chevrolet & corvette            & 5.7 & 1999 & 8 & manual(m6) & r & 16 & 26 & p & 2seater\\\\\n",
       "\t chevrolet & corvette            & 5.7 & 1999 & 8 & auto(l4)   & r & 15 & 23 & p & 2seater\\\\\n",
       "\t chevrolet & corvette            & 6.2 & 2008 & 8 & manual(m6) & r & 16 & 26 & p & 2seater\\\\\n",
       "\t chevrolet & corvette            & 6.2 & 2008 & 8 & auto(s6)   & r & 15 & 25 & p & 2seater\\\\\n",
       "\t chevrolet & corvette            & 7.0 & 2008 & 8 & manual(m6) & r & 15 & 24 & p & 2seater\\\\\n",
       "\t chevrolet & k1500 tahoe 4wd     & 5.3 & 2008 & 8 & auto(l4)   & 4 & 14 & 19 & r & suv    \\\\\n",
       "\t chevrolet & k1500 tahoe 4wd     & 5.3 & 2008 & 8 & auto(l4)   & 4 & 11 & 14 & e & suv    \\\\\n",
       "\t chevrolet & k1500 tahoe 4wd     & 5.7 & 1999 & 8 & auto(l4)   & 4 & 11 & 15 & r & suv    \\\\\n",
       "\t chevrolet & k1500 tahoe 4wd     & 6.5 & 1999 & 8 & auto(l4)   & 4 & 14 & 17 & d & suv    \\\\\n",
       "\t dodge     & dakota pickup 4wd   & 4.7 & 2008 & 8 & auto(l5)   & 4 & 14 & 19 & r & pickup \\\\\n",
       "\t dodge     & dakota pickup 4wd   & 4.7 & 2008 & 8 & auto(l5)   & 4 & 14 & 19 & r & pickup \\\\\n",
       "\t dodge     & dakota pickup 4wd   & 4.7 & 2008 & 8 & auto(l5)   & 4 &  9 & 12 & e & pickup \\\\\n",
       "\t dodge     & dakota pickup 4wd   & 5.2 & 1999 & 8 & manual(m5) & 4 & 11 & 17 & r & pickup \\\\\n",
       "\t dodge     & dakota pickup 4wd   & 5.2 & 1999 & 8 & auto(l4)   & 4 & 11 & 15 & r & pickup \\\\\n",
       "\t dodge     & durango 4wd         & 4.7 & 2008 & 8 & auto(l5)   & 4 & 13 & 17 & r & suv    \\\\\n",
       "\t dodge     & durango 4wd         & 4.7 & 2008 & 8 & auto(l5)   & 4 &  9 & 12 & e & suv    \\\\\n",
       "\t dodge     & durango 4wd         & 4.7 & 2008 & 8 & auto(l5)   & 4 & 13 & 17 & r & suv    \\\\\n",
       "\t dodge     & durango 4wd         & 5.2 & 1999 & 8 & auto(l4)   & 4 & 11 & 16 & r & suv    \\\\\n",
       "\t dodge     & durango 4wd         & 5.7 & 2008 & 8 & auto(l5)   & 4 & 13 & 18 & r & suv    \\\\\n",
       "\t dodge     & durango 4wd         & 5.9 & 1999 & 8 & auto(l4)   & 4 & 11 & 15 & r & suv    \\\\\n",
       "\t dodge     & ram 1500 pickup 4wd & 4.7 & 2008 & 8 & manual(m6) & 4 & 12 & 16 & r & pickup \\\\\n",
       "\t dodge     & ram 1500 pickup 4wd & 4.7 & 2008 & 8 & auto(l5)   & 4 &  9 & 12 & e & pickup \\\\\n",
       "\t dodge     & ram 1500 pickup 4wd & 4.7 & 2008 & 8 & auto(l5)   & 4 & 13 & 17 & r & pickup \\\\\n",
       "\t dodge     & ram 1500 pickup 4wd & 4.7 & 2008 & 8 & auto(l5)   & 4 & 13 & 17 & r & pickup \\\\\n",
       "\t ... & ... & ... & ... & ... & ... & ... & ... & ... & ... & ...\\\\\n",
       "\t ford       & explorer 4wd           & 5.0 & 1999 & 8 & auto(l4)   & 4 & 13 & 17 & r & suv       \\\\\n",
       "\t ford       & f150 pickup 4wd        & 4.6 & 1999 & 8 & manual(m5) & 4 & 13 & 16 & r & pickup    \\\\\n",
       "\t ford       & f150 pickup 4wd        & 4.6 & 1999 & 8 & auto(l4)   & 4 & 13 & 16 & r & pickup    \\\\\n",
       "\t ford       & f150 pickup 4wd        & 4.6 & 2008 & 8 & auto(l4)   & 4 & 13 & 17 & r & pickup    \\\\\n",
       "\t ford       & f150 pickup 4wd        & 5.4 & 1999 & 8 & auto(l4)   & 4 & 11 & 15 & r & pickup    \\\\\n",
       "\t ford       & f150 pickup 4wd        & 5.4 & 2008 & 8 & auto(l4)   & 4 & 13 & 17 & r & pickup    \\\\\n",
       "\t ford       & mustang                & 4.6 & 1999 & 8 & auto(l4)   & r & 15 & 21 & r & subcompact\\\\\n",
       "\t ford       & mustang                & 4.6 & 1999 & 8 & manual(m5) & r & 15 & 22 & r & subcompact\\\\\n",
       "\t ford       & mustang                & 4.6 & 2008 & 8 & manual(m5) & r & 15 & 23 & r & subcompact\\\\\n",
       "\t ford       & mustang                & 4.6 & 2008 & 8 & auto(l5)   & r & 15 & 22 & r & subcompact\\\\\n",
       "\t ford       & mustang                & 5.4 & 2008 & 8 & manual(m6) & r & 14 & 20 & p & subcompact\\\\\n",
       "\t jeep       & grand cherokee 4wd     & 4.7 & 1999 & 8 & auto(l4)   & 4 & 14 & 17 & r & suv       \\\\\n",
       "\t jeep       & grand cherokee 4wd     & 4.7 & 2008 & 8 & auto(l5)   & 4 &  9 & 12 & e & suv       \\\\\n",
       "\t jeep       & grand cherokee 4wd     & 4.7 & 2008 & 8 & auto(l5)   & 4 & 14 & 19 & r & suv       \\\\\n",
       "\t jeep       & grand cherokee 4wd     & 5.7 & 2008 & 8 & auto(l5)   & 4 & 13 & 18 & r & suv       \\\\\n",
       "\t jeep       & grand cherokee 4wd     & 6.1 & 2008 & 8 & auto(l5)   & 4 & 11 & 14 & p & suv       \\\\\n",
       "\t land rover & range rover            & 4.0 & 1999 & 8 & auto(l4)   & 4 & 11 & 15 & p & suv       \\\\\n",
       "\t land rover & range rover            & 4.2 & 2008 & 8 & auto(s6)   & 4 & 12 & 18 & r & suv       \\\\\n",
       "\t land rover & range rover            & 4.4 & 2008 & 8 & auto(s6)   & 4 & 12 & 18 & r & suv       \\\\\n",
       "\t land rover & range rover            & 4.6 & 1999 & 8 & auto(l4)   & 4 & 11 & 15 & p & suv       \\\\\n",
       "\t lincoln    & navigator 2wd          & 5.4 & 1999 & 8 & auto(l4)   & r & 11 & 17 & r & suv       \\\\\n",
       "\t lincoln    & navigator 2wd          & 5.4 & 1999 & 8 & auto(l4)   & r & 11 & 16 & p & suv       \\\\\n",
       "\t lincoln    & navigator 2wd          & 5.4 & 2008 & 8 & auto(l6)   & r & 12 & 18 & r & suv       \\\\\n",
       "\t mercury    & mountaineer 4wd        & 4.6 & 2008 & 8 & auto(l6)   & 4 & 13 & 19 & r & suv       \\\\\n",
       "\t mercury    & mountaineer 4wd        & 5.0 & 1999 & 8 & auto(l4)   & 4 & 13 & 17 & r & suv       \\\\\n",
       "\t nissan     & pathfinder 4wd         & 5.6 & 2008 & 8 & auto(s5)   & 4 & 12 & 18 & p & suv       \\\\\n",
       "\t pontiac    & grand prix             & 5.3 & 2008 & 8 & auto(s4)   & f & 16 & 25 & p & midsize   \\\\\n",
       "\t toyota     & 4runner 4wd            & 4.7 & 2008 & 8 & auto(l5)   & 4 & 14 & 17 & r & suv       \\\\\n",
       "\t toyota     & land cruiser wagon 4wd & 4.7 & 1999 & 8 & auto(l4)   & 4 & 11 & 15 & r & suv       \\\\\n",
       "\t toyota     & land cruiser wagon 4wd & 5.7 & 2008 & 8 & auto(s6)   & 4 & 13 & 18 & r & suv       \\\\\n",
       "\\end{tabular}\n"
      ],
      "text/markdown": [
       "\n",
       "A tibble: 70 × 11\n",
       "\n",
       "| manufacturer &lt;chr&gt; | model &lt;chr&gt; | displ &lt;dbl&gt; | year &lt;int&gt; | cyl &lt;int&gt; | trans &lt;chr&gt; | drv &lt;chr&gt; | cty &lt;int&gt; | hwy &lt;int&gt; | fl &lt;chr&gt; | class &lt;chr&gt; |\n",
       "|---|---|---|---|---|---|---|---|---|---|---|\n",
       "| audi      | a6 quattro          | 4.2 | 2008 | 8 | auto(s6)   | 4 | 16 | 23 | p | midsize |\n",
       "| chevrolet | c1500 suburban 2wd  | 5.3 | 2008 | 8 | auto(l4)   | r | 14 | 20 | r | suv     |\n",
       "| chevrolet | c1500 suburban 2wd  | 5.3 | 2008 | 8 | auto(l4)   | r | 11 | 15 | e | suv     |\n",
       "| chevrolet | c1500 suburban 2wd  | 5.3 | 2008 | 8 | auto(l4)   | r | 14 | 20 | r | suv     |\n",
       "| chevrolet | c1500 suburban 2wd  | 5.7 | 1999 | 8 | auto(l4)   | r | 13 | 17 | r | suv     |\n",
       "| chevrolet | c1500 suburban 2wd  | 6.0 | 2008 | 8 | auto(l4)   | r | 12 | 17 | r | suv     |\n",
       "| chevrolet | corvette            | 5.7 | 1999 | 8 | manual(m6) | r | 16 | 26 | p | 2seater |\n",
       "| chevrolet | corvette            | 5.7 | 1999 | 8 | auto(l4)   | r | 15 | 23 | p | 2seater |\n",
       "| chevrolet | corvette            | 6.2 | 2008 | 8 | manual(m6) | r | 16 | 26 | p | 2seater |\n",
       "| chevrolet | corvette            | 6.2 | 2008 | 8 | auto(s6)   | r | 15 | 25 | p | 2seater |\n",
       "| chevrolet | corvette            | 7.0 | 2008 | 8 | manual(m6) | r | 15 | 24 | p | 2seater |\n",
       "| chevrolet | k1500 tahoe 4wd     | 5.3 | 2008 | 8 | auto(l4)   | 4 | 14 | 19 | r | suv     |\n",
       "| chevrolet | k1500 tahoe 4wd     | 5.3 | 2008 | 8 | auto(l4)   | 4 | 11 | 14 | e | suv     |\n",
       "| chevrolet | k1500 tahoe 4wd     | 5.7 | 1999 | 8 | auto(l4)   | 4 | 11 | 15 | r | suv     |\n",
       "| chevrolet | k1500 tahoe 4wd     | 6.5 | 1999 | 8 | auto(l4)   | 4 | 14 | 17 | d | suv     |\n",
       "| dodge     | dakota pickup 4wd   | 4.7 | 2008 | 8 | auto(l5)   | 4 | 14 | 19 | r | pickup  |\n",
       "| dodge     | dakota pickup 4wd   | 4.7 | 2008 | 8 | auto(l5)   | 4 | 14 | 19 | r | pickup  |\n",
       "| dodge     | dakota pickup 4wd   | 4.7 | 2008 | 8 | auto(l5)   | 4 |  9 | 12 | e | pickup  |\n",
       "| dodge     | dakota pickup 4wd   | 5.2 | 1999 | 8 | manual(m5) | 4 | 11 | 17 | r | pickup  |\n",
       "| dodge     | dakota pickup 4wd   | 5.2 | 1999 | 8 | auto(l4)   | 4 | 11 | 15 | r | pickup  |\n",
       "| dodge     | durango 4wd         | 4.7 | 2008 | 8 | auto(l5)   | 4 | 13 | 17 | r | suv     |\n",
       "| dodge     | durango 4wd         | 4.7 | 2008 | 8 | auto(l5)   | 4 |  9 | 12 | e | suv     |\n",
       "| dodge     | durango 4wd         | 4.7 | 2008 | 8 | auto(l5)   | 4 | 13 | 17 | r | suv     |\n",
       "| dodge     | durango 4wd         | 5.2 | 1999 | 8 | auto(l4)   | 4 | 11 | 16 | r | suv     |\n",
       "| dodge     | durango 4wd         | 5.7 | 2008 | 8 | auto(l5)   | 4 | 13 | 18 | r | suv     |\n",
       "| dodge     | durango 4wd         | 5.9 | 1999 | 8 | auto(l4)   | 4 | 11 | 15 | r | suv     |\n",
       "| dodge     | ram 1500 pickup 4wd | 4.7 | 2008 | 8 | manual(m6) | 4 | 12 | 16 | r | pickup  |\n",
       "| dodge     | ram 1500 pickup 4wd | 4.7 | 2008 | 8 | auto(l5)   | 4 |  9 | 12 | e | pickup  |\n",
       "| dodge     | ram 1500 pickup 4wd | 4.7 | 2008 | 8 | auto(l5)   | 4 | 13 | 17 | r | pickup  |\n",
       "| dodge     | ram 1500 pickup 4wd | 4.7 | 2008 | 8 | auto(l5)   | 4 | 13 | 17 | r | pickup  |\n",
       "| ... | ... | ... | ... | ... | ... | ... | ... | ... | ... | ... |\n",
       "| ford       | explorer 4wd           | 5.0 | 1999 | 8 | auto(l4)   | 4 | 13 | 17 | r | suv        |\n",
       "| ford       | f150 pickup 4wd        | 4.6 | 1999 | 8 | manual(m5) | 4 | 13 | 16 | r | pickup     |\n",
       "| ford       | f150 pickup 4wd        | 4.6 | 1999 | 8 | auto(l4)   | 4 | 13 | 16 | r | pickup     |\n",
       "| ford       | f150 pickup 4wd        | 4.6 | 2008 | 8 | auto(l4)   | 4 | 13 | 17 | r | pickup     |\n",
       "| ford       | f150 pickup 4wd        | 5.4 | 1999 | 8 | auto(l4)   | 4 | 11 | 15 | r | pickup     |\n",
       "| ford       | f150 pickup 4wd        | 5.4 | 2008 | 8 | auto(l4)   | 4 | 13 | 17 | r | pickup     |\n",
       "| ford       | mustang                | 4.6 | 1999 | 8 | auto(l4)   | r | 15 | 21 | r | subcompact |\n",
       "| ford       | mustang                | 4.6 | 1999 | 8 | manual(m5) | r | 15 | 22 | r | subcompact |\n",
       "| ford       | mustang                | 4.6 | 2008 | 8 | manual(m5) | r | 15 | 23 | r | subcompact |\n",
       "| ford       | mustang                | 4.6 | 2008 | 8 | auto(l5)   | r | 15 | 22 | r | subcompact |\n",
       "| ford       | mustang                | 5.4 | 2008 | 8 | manual(m6) | r | 14 | 20 | p | subcompact |\n",
       "| jeep       | grand cherokee 4wd     | 4.7 | 1999 | 8 | auto(l4)   | 4 | 14 | 17 | r | suv        |\n",
       "| jeep       | grand cherokee 4wd     | 4.7 | 2008 | 8 | auto(l5)   | 4 |  9 | 12 | e | suv        |\n",
       "| jeep       | grand cherokee 4wd     | 4.7 | 2008 | 8 | auto(l5)   | 4 | 14 | 19 | r | suv        |\n",
       "| jeep       | grand cherokee 4wd     | 5.7 | 2008 | 8 | auto(l5)   | 4 | 13 | 18 | r | suv        |\n",
       "| jeep       | grand cherokee 4wd     | 6.1 | 2008 | 8 | auto(l5)   | 4 | 11 | 14 | p | suv        |\n",
       "| land rover | range rover            | 4.0 | 1999 | 8 | auto(l4)   | 4 | 11 | 15 | p | suv        |\n",
       "| land rover | range rover            | 4.2 | 2008 | 8 | auto(s6)   | 4 | 12 | 18 | r | suv        |\n",
       "| land rover | range rover            | 4.4 | 2008 | 8 | auto(s6)   | 4 | 12 | 18 | r | suv        |\n",
       "| land rover | range rover            | 4.6 | 1999 | 8 | auto(l4)   | 4 | 11 | 15 | p | suv        |\n",
       "| lincoln    | navigator 2wd          | 5.4 | 1999 | 8 | auto(l4)   | r | 11 | 17 | r | suv        |\n",
       "| lincoln    | navigator 2wd          | 5.4 | 1999 | 8 | auto(l4)   | r | 11 | 16 | p | suv        |\n",
       "| lincoln    | navigator 2wd          | 5.4 | 2008 | 8 | auto(l6)   | r | 12 | 18 | r | suv        |\n",
       "| mercury    | mountaineer 4wd        | 4.6 | 2008 | 8 | auto(l6)   | 4 | 13 | 19 | r | suv        |\n",
       "| mercury    | mountaineer 4wd        | 5.0 | 1999 | 8 | auto(l4)   | 4 | 13 | 17 | r | suv        |\n",
       "| nissan     | pathfinder 4wd         | 5.6 | 2008 | 8 | auto(s5)   | 4 | 12 | 18 | p | suv        |\n",
       "| pontiac    | grand prix             | 5.3 | 2008 | 8 | auto(s4)   | f | 16 | 25 | p | midsize    |\n",
       "| toyota     | 4runner 4wd            | 4.7 | 2008 | 8 | auto(l5)   | 4 | 14 | 17 | r | suv        |\n",
       "| toyota     | land cruiser wagon 4wd | 4.7 | 1999 | 8 | auto(l4)   | 4 | 11 | 15 | r | suv        |\n",
       "| toyota     | land cruiser wagon 4wd | 5.7 | 2008 | 8 | auto(s6)   | 4 | 13 | 18 | r | suv        |\n",
       "\n"
      ],
      "text/plain": [
       "    manufacturer model                  displ year cyl trans      drv cty hwy\n",
       "1   audi         a6 quattro             4.2   2008 8   auto(s6)   4   16  23 \n",
       "2   chevrolet    c1500 suburban 2wd     5.3   2008 8   auto(l4)   r   14  20 \n",
       "3   chevrolet    c1500 suburban 2wd     5.3   2008 8   auto(l4)   r   11  15 \n",
       "4   chevrolet    c1500 suburban 2wd     5.3   2008 8   auto(l4)   r   14  20 \n",
       "5   chevrolet    c1500 suburban 2wd     5.7   1999 8   auto(l4)   r   13  17 \n",
       "6   chevrolet    c1500 suburban 2wd     6.0   2008 8   auto(l4)   r   12  17 \n",
       "7   chevrolet    corvette               5.7   1999 8   manual(m6) r   16  26 \n",
       "8   chevrolet    corvette               5.7   1999 8   auto(l4)   r   15  23 \n",
       "9   chevrolet    corvette               6.2   2008 8   manual(m6) r   16  26 \n",
       "10  chevrolet    corvette               6.2   2008 8   auto(s6)   r   15  25 \n",
       "11  chevrolet    corvette               7.0   2008 8   manual(m6) r   15  24 \n",
       "12  chevrolet    k1500 tahoe 4wd        5.3   2008 8   auto(l4)   4   14  19 \n",
       "13  chevrolet    k1500 tahoe 4wd        5.3   2008 8   auto(l4)   4   11  14 \n",
       "14  chevrolet    k1500 tahoe 4wd        5.7   1999 8   auto(l4)   4   11  15 \n",
       "15  chevrolet    k1500 tahoe 4wd        6.5   1999 8   auto(l4)   4   14  17 \n",
       "16  dodge        dakota pickup 4wd      4.7   2008 8   auto(l5)   4   14  19 \n",
       "17  dodge        dakota pickup 4wd      4.7   2008 8   auto(l5)   4   14  19 \n",
       "18  dodge        dakota pickup 4wd      4.7   2008 8   auto(l5)   4    9  12 \n",
       "19  dodge        dakota pickup 4wd      5.2   1999 8   manual(m5) 4   11  17 \n",
       "20  dodge        dakota pickup 4wd      5.2   1999 8   auto(l4)   4   11  15 \n",
       "21  dodge        durango 4wd            4.7   2008 8   auto(l5)   4   13  17 \n",
       "22  dodge        durango 4wd            4.7   2008 8   auto(l5)   4    9  12 \n",
       "23  dodge        durango 4wd            4.7   2008 8   auto(l5)   4   13  17 \n",
       "24  dodge        durango 4wd            5.2   1999 8   auto(l4)   4   11  16 \n",
       "25  dodge        durango 4wd            5.7   2008 8   auto(l5)   4   13  18 \n",
       "26  dodge        durango 4wd            5.9   1999 8   auto(l4)   4   11  15 \n",
       "27  dodge        ram 1500 pickup 4wd    4.7   2008 8   manual(m6) 4   12  16 \n",
       "28  dodge        ram 1500 pickup 4wd    4.7   2008 8   auto(l5)   4    9  12 \n",
       "29  dodge        ram 1500 pickup 4wd    4.7   2008 8   auto(l5)   4   13  17 \n",
       "30  dodge        ram 1500 pickup 4wd    4.7   2008 8   auto(l5)   4   13  17 \n",
       "... ...          ...                    ...   ...  ... ...        ... ... ...\n",
       "41  ford         explorer 4wd           5.0   1999 8   auto(l4)   4   13  17 \n",
       "42  ford         f150 pickup 4wd        4.6   1999 8   manual(m5) 4   13  16 \n",
       "43  ford         f150 pickup 4wd        4.6   1999 8   auto(l4)   4   13  16 \n",
       "44  ford         f150 pickup 4wd        4.6   2008 8   auto(l4)   4   13  17 \n",
       "45  ford         f150 pickup 4wd        5.4   1999 8   auto(l4)   4   11  15 \n",
       "46  ford         f150 pickup 4wd        5.4   2008 8   auto(l4)   4   13  17 \n",
       "47  ford         mustang                4.6   1999 8   auto(l4)   r   15  21 \n",
       "48  ford         mustang                4.6   1999 8   manual(m5) r   15  22 \n",
       "49  ford         mustang                4.6   2008 8   manual(m5) r   15  23 \n",
       "50  ford         mustang                4.6   2008 8   auto(l5)   r   15  22 \n",
       "51  ford         mustang                5.4   2008 8   manual(m6) r   14  20 \n",
       "52  jeep         grand cherokee 4wd     4.7   1999 8   auto(l4)   4   14  17 \n",
       "53  jeep         grand cherokee 4wd     4.7   2008 8   auto(l5)   4    9  12 \n",
       "54  jeep         grand cherokee 4wd     4.7   2008 8   auto(l5)   4   14  19 \n",
       "55  jeep         grand cherokee 4wd     5.7   2008 8   auto(l5)   4   13  18 \n",
       "56  jeep         grand cherokee 4wd     6.1   2008 8   auto(l5)   4   11  14 \n",
       "57  land rover   range rover            4.0   1999 8   auto(l4)   4   11  15 \n",
       "58  land rover   range rover            4.2   2008 8   auto(s6)   4   12  18 \n",
       "59  land rover   range rover            4.4   2008 8   auto(s6)   4   12  18 \n",
       "60  land rover   range rover            4.6   1999 8   auto(l4)   4   11  15 \n",
       "61  lincoln      navigator 2wd          5.4   1999 8   auto(l4)   r   11  17 \n",
       "62  lincoln      navigator 2wd          5.4   1999 8   auto(l4)   r   11  16 \n",
       "63  lincoln      navigator 2wd          5.4   2008 8   auto(l6)   r   12  18 \n",
       "64  mercury      mountaineer 4wd        4.6   2008 8   auto(l6)   4   13  19 \n",
       "65  mercury      mountaineer 4wd        5.0   1999 8   auto(l4)   4   13  17 \n",
       "66  nissan       pathfinder 4wd         5.6   2008 8   auto(s5)   4   12  18 \n",
       "67  pontiac      grand prix             5.3   2008 8   auto(s4)   f   16  25 \n",
       "68  toyota       4runner 4wd            4.7   2008 8   auto(l5)   4   14  17 \n",
       "69  toyota       land cruiser wagon 4wd 4.7   1999 8   auto(l4)   4   11  15 \n",
       "70  toyota       land cruiser wagon 4wd 5.7   2008 8   auto(s6)   4   13  18 \n",
       "    fl  class     \n",
       "1   p   midsize   \n",
       "2   r   suv       \n",
       "3   e   suv       \n",
       "4   r   suv       \n",
       "5   r   suv       \n",
       "6   r   suv       \n",
       "7   p   2seater   \n",
       "8   p   2seater   \n",
       "9   p   2seater   \n",
       "10  p   2seater   \n",
       "11  p   2seater   \n",
       "12  r   suv       \n",
       "13  e   suv       \n",
       "14  r   suv       \n",
       "15  d   suv       \n",
       "16  r   pickup    \n",
       "17  r   pickup    \n",
       "18  e   pickup    \n",
       "19  r   pickup    \n",
       "20  r   pickup    \n",
       "21  r   suv       \n",
       "22  e   suv       \n",
       "23  r   suv       \n",
       "24  r   suv       \n",
       "25  r   suv       \n",
       "26  r   suv       \n",
       "27  r   pickup    \n",
       "28  e   pickup    \n",
       "29  r   pickup    \n",
       "30  r   pickup    \n",
       "... ... ...       \n",
       "41  r   suv       \n",
       "42  r   pickup    \n",
       "43  r   pickup    \n",
       "44  r   pickup    \n",
       "45  r   pickup    \n",
       "46  r   pickup    \n",
       "47  r   subcompact\n",
       "48  r   subcompact\n",
       "49  r   subcompact\n",
       "50  r   subcompact\n",
       "51  p   subcompact\n",
       "52  r   suv       \n",
       "53  e   suv       \n",
       "54  r   suv       \n",
       "55  r   suv       \n",
       "56  p   suv       \n",
       "57  p   suv       \n",
       "58  r   suv       \n",
       "59  r   suv       \n",
       "60  p   suv       \n",
       "61  r   suv       \n",
       "62  p   suv       \n",
       "63  r   suv       \n",
       "64  r   suv       \n",
       "65  r   suv       \n",
       "66  p   suv       \n",
       "67  p   midsize   \n",
       "68  r   suv       \n",
       "69  r   suv       \n",
       "70  r   suv       "
      ]
     },
     "metadata": {},
     "output_type": "display_data"
    }
   ],
   "source": [
    "# Fix\n",
    "filter(mpg, cyl == 8)"
   ]
  },
  {
   "cell_type": "code",
   "execution_count": 30,
   "metadata": {},
   "outputs": [
    {
     "ename": "ERROR",
     "evalue": "Error in filter(diamond, carat > 3): object 'diamond' not found\n",
     "output_type": "error",
     "traceback": [
      "Error in filter(diamond, carat > 3): object 'diamond' not found\nTraceback:\n",
      "1. filter(diamond, carat > 3)"
     ]
    }
   ],
   "source": [
    "filter(diamond, carat > 3)"
   ]
  },
  {
   "cell_type": "markdown",
   "metadata": {},
   "source": [
    "R says it can’t find the object diamond. This is a typo; the data frame is named diamonds."
   ]
  },
  {
   "cell_type": "code",
   "execution_count": 31,
   "metadata": {},
   "outputs": [
    {
     "data": {
      "text/html": [
       "<table class=\"dataframe\">\n",
       "<caption>A tibble: 32 × 10</caption>\n",
       "<thead>\n",
       "\t<tr><th scope=col>carat</th><th scope=col>cut</th><th scope=col>color</th><th scope=col>clarity</th><th scope=col>depth</th><th scope=col>table</th><th scope=col>price</th><th scope=col>x</th><th scope=col>y</th><th scope=col>z</th></tr>\n",
       "\t<tr><th scope=col>&lt;dbl&gt;</th><th scope=col>&lt;ord&gt;</th><th scope=col>&lt;ord&gt;</th><th scope=col>&lt;ord&gt;</th><th scope=col>&lt;dbl&gt;</th><th scope=col>&lt;dbl&gt;</th><th scope=col>&lt;int&gt;</th><th scope=col>&lt;dbl&gt;</th><th scope=col>&lt;dbl&gt;</th><th scope=col>&lt;dbl&gt;</th></tr>\n",
       "</thead>\n",
       "<tbody>\n",
       "\t<tr><td>3.01</td><td>Premium  </td><td>I</td><td>I1 </td><td>62.7</td><td>58</td><td> 8040</td><td> 9.10</td><td> 8.97</td><td>5.67</td></tr>\n",
       "\t<tr><td>3.11</td><td>Fair     </td><td>J</td><td>I1 </td><td>65.9</td><td>57</td><td> 9823</td><td> 9.15</td><td> 9.02</td><td>5.98</td></tr>\n",
       "\t<tr><td>3.01</td><td>Premium  </td><td>F</td><td>I1 </td><td>62.2</td><td>56</td><td> 9925</td><td> 9.24</td><td> 9.13</td><td>5.73</td></tr>\n",
       "\t<tr><td>3.05</td><td>Premium  </td><td>E</td><td>I1 </td><td>60.9</td><td>58</td><td>10453</td><td> 9.26</td><td> 9.25</td><td>5.66</td></tr>\n",
       "\t<tr><td>3.02</td><td>Fair     </td><td>I</td><td>I1 </td><td>65.2</td><td>56</td><td>10577</td><td> 9.11</td><td> 9.02</td><td>5.91</td></tr>\n",
       "\t<tr><td>3.01</td><td>Fair     </td><td>H</td><td>I1 </td><td>56.1</td><td>62</td><td>10761</td><td> 9.54</td><td> 9.38</td><td>5.31</td></tr>\n",
       "\t<tr><td>3.65</td><td>Fair     </td><td>H</td><td>I1 </td><td>67.1</td><td>53</td><td>11668</td><td> 9.53</td><td> 9.48</td><td>6.38</td></tr>\n",
       "\t<tr><td>3.24</td><td>Premium  </td><td>H</td><td>I1 </td><td>62.1</td><td>58</td><td>12300</td><td> 9.44</td><td> 9.40</td><td>5.85</td></tr>\n",
       "\t<tr><td>3.22</td><td>Ideal    </td><td>I</td><td>I1 </td><td>62.6</td><td>55</td><td>12545</td><td> 9.49</td><td> 9.42</td><td>5.92</td></tr>\n",
       "\t<tr><td>3.50</td><td>Ideal    </td><td>H</td><td>I1 </td><td>62.8</td><td>57</td><td>12587</td><td> 9.65</td><td> 9.59</td><td>6.03</td></tr>\n",
       "\t<tr><td>3.01</td><td>Premium  </td><td>G</td><td>SI2</td><td>59.8</td><td>58</td><td>14220</td><td> 9.44</td><td> 9.37</td><td>5.62</td></tr>\n",
       "\t<tr><td>4.01</td><td>Premium  </td><td>I</td><td>I1 </td><td>61.0</td><td>61</td><td>15223</td><td>10.14</td><td>10.10</td><td>6.17</td></tr>\n",
       "\t<tr><td>4.01</td><td>Premium  </td><td>J</td><td>I1 </td><td>62.5</td><td>62</td><td>15223</td><td>10.02</td><td> 9.94</td><td>6.24</td></tr>\n",
       "\t<tr><td>3.04</td><td>Very Good</td><td>I</td><td>SI2</td><td>63.2</td><td>59</td><td>15354</td><td> 9.14</td><td> 9.07</td><td>5.75</td></tr>\n",
       "\t<tr><td>3.40</td><td>Fair     </td><td>D</td><td>I1 </td><td>66.8</td><td>52</td><td>15964</td><td> 9.42</td><td> 9.34</td><td>6.27</td></tr>\n",
       "\t<tr><td>4.00</td><td>Very Good</td><td>I</td><td>I1 </td><td>63.3</td><td>58</td><td>15984</td><td>10.01</td><td> 9.94</td><td>6.31</td></tr>\n",
       "\t<tr><td>3.01</td><td>Ideal    </td><td>J</td><td>SI2</td><td>61.7</td><td>58</td><td>16037</td><td> 9.25</td><td> 9.20</td><td>5.69</td></tr>\n",
       "\t<tr><td>3.67</td><td>Premium  </td><td>I</td><td>I1 </td><td>62.4</td><td>56</td><td>16193</td><td> 9.86</td><td> 9.81</td><td>6.13</td></tr>\n",
       "\t<tr><td>3.01</td><td>Ideal    </td><td>J</td><td>I1 </td><td>65.4</td><td>60</td><td>16538</td><td> 8.99</td><td> 8.93</td><td>5.86</td></tr>\n",
       "\t<tr><td>4.13</td><td>Fair     </td><td>H</td><td>I1 </td><td>64.8</td><td>61</td><td>17329</td><td>10.00</td><td> 9.85</td><td>6.43</td></tr>\n",
       "\t<tr><td>5.01</td><td>Fair     </td><td>J</td><td>I1 </td><td>65.5</td><td>59</td><td>18018</td><td>10.74</td><td>10.54</td><td>6.98</td></tr>\n",
       "\t<tr><td>3.01</td><td>Premium  </td><td>I</td><td>SI2</td><td>60.2</td><td>59</td><td>18242</td><td> 9.36</td><td> 9.31</td><td>5.62</td></tr>\n",
       "\t<tr><td>3.01</td><td>Fair     </td><td>I</td><td>SI2</td><td>65.8</td><td>56</td><td>18242</td><td> 8.99</td><td> 8.94</td><td>5.90</td></tr>\n",
       "\t<tr><td>3.01</td><td>Fair     </td><td>I</td><td>SI2</td><td>65.8</td><td>56</td><td>18242</td><td> 8.99</td><td> 8.94</td><td>5.90</td></tr>\n",
       "\t<tr><td>3.01</td><td>Good     </td><td>I</td><td>SI2</td><td>63.9</td><td>60</td><td>18242</td><td> 9.06</td><td> 9.01</td><td>5.77</td></tr>\n",
       "\t<tr><td>3.01</td><td>Good     </td><td>I</td><td>SI2</td><td>63.9</td><td>60</td><td>18242</td><td> 9.06</td><td> 9.01</td><td>5.77</td></tr>\n",
       "\t<tr><td>4.50</td><td>Fair     </td><td>J</td><td>I1 </td><td>65.8</td><td>58</td><td>18531</td><td>10.23</td><td>10.16</td><td>6.72</td></tr>\n",
       "\t<tr><td>3.04</td><td>Premium  </td><td>I</td><td>SI2</td><td>59.3</td><td>60</td><td>18559</td><td> 9.51</td><td> 9.46</td><td>5.62</td></tr>\n",
       "\t<tr><td>3.01</td><td>Good     </td><td>H</td><td>SI2</td><td>57.6</td><td>64</td><td>18593</td><td> 9.44</td><td> 9.38</td><td>5.42</td></tr>\n",
       "\t<tr><td>3.51</td><td>Premium  </td><td>J</td><td>VS2</td><td>62.5</td><td>59</td><td>18701</td><td> 9.66</td><td> 9.63</td><td>6.03</td></tr>\n",
       "\t<tr><td>3.01</td><td>Premium  </td><td>J</td><td>SI2</td><td>60.7</td><td>59</td><td>18710</td><td> 9.35</td><td> 9.22</td><td>5.64</td></tr>\n",
       "\t<tr><td>3.01</td><td>Premium  </td><td>J</td><td>SI2</td><td>59.7</td><td>58</td><td>18710</td><td> 9.41</td><td> 9.32</td><td>5.59</td></tr>\n",
       "</tbody>\n",
       "</table>\n"
      ],
      "text/latex": [
       "A tibble: 32 × 10\n",
       "\\begin{tabular}{llllllllll}\n",
       " carat & cut & color & clarity & depth & table & price & x & y & z\\\\\n",
       " <dbl> & <ord> & <ord> & <ord> & <dbl> & <dbl> & <int> & <dbl> & <dbl> & <dbl>\\\\\n",
       "\\hline\n",
       "\t 3.01 & Premium   & I & I1  & 62.7 & 58 &  8040 &  9.10 &  8.97 & 5.67\\\\\n",
       "\t 3.11 & Fair      & J & I1  & 65.9 & 57 &  9823 &  9.15 &  9.02 & 5.98\\\\\n",
       "\t 3.01 & Premium   & F & I1  & 62.2 & 56 &  9925 &  9.24 &  9.13 & 5.73\\\\\n",
       "\t 3.05 & Premium   & E & I1  & 60.9 & 58 & 10453 &  9.26 &  9.25 & 5.66\\\\\n",
       "\t 3.02 & Fair      & I & I1  & 65.2 & 56 & 10577 &  9.11 &  9.02 & 5.91\\\\\n",
       "\t 3.01 & Fair      & H & I1  & 56.1 & 62 & 10761 &  9.54 &  9.38 & 5.31\\\\\n",
       "\t 3.65 & Fair      & H & I1  & 67.1 & 53 & 11668 &  9.53 &  9.48 & 6.38\\\\\n",
       "\t 3.24 & Premium   & H & I1  & 62.1 & 58 & 12300 &  9.44 &  9.40 & 5.85\\\\\n",
       "\t 3.22 & Ideal     & I & I1  & 62.6 & 55 & 12545 &  9.49 &  9.42 & 5.92\\\\\n",
       "\t 3.50 & Ideal     & H & I1  & 62.8 & 57 & 12587 &  9.65 &  9.59 & 6.03\\\\\n",
       "\t 3.01 & Premium   & G & SI2 & 59.8 & 58 & 14220 &  9.44 &  9.37 & 5.62\\\\\n",
       "\t 4.01 & Premium   & I & I1  & 61.0 & 61 & 15223 & 10.14 & 10.10 & 6.17\\\\\n",
       "\t 4.01 & Premium   & J & I1  & 62.5 & 62 & 15223 & 10.02 &  9.94 & 6.24\\\\\n",
       "\t 3.04 & Very Good & I & SI2 & 63.2 & 59 & 15354 &  9.14 &  9.07 & 5.75\\\\\n",
       "\t 3.40 & Fair      & D & I1  & 66.8 & 52 & 15964 &  9.42 &  9.34 & 6.27\\\\\n",
       "\t 4.00 & Very Good & I & I1  & 63.3 & 58 & 15984 & 10.01 &  9.94 & 6.31\\\\\n",
       "\t 3.01 & Ideal     & J & SI2 & 61.7 & 58 & 16037 &  9.25 &  9.20 & 5.69\\\\\n",
       "\t 3.67 & Premium   & I & I1  & 62.4 & 56 & 16193 &  9.86 &  9.81 & 6.13\\\\\n",
       "\t 3.01 & Ideal     & J & I1  & 65.4 & 60 & 16538 &  8.99 &  8.93 & 5.86\\\\\n",
       "\t 4.13 & Fair      & H & I1  & 64.8 & 61 & 17329 & 10.00 &  9.85 & 6.43\\\\\n",
       "\t 5.01 & Fair      & J & I1  & 65.5 & 59 & 18018 & 10.74 & 10.54 & 6.98\\\\\n",
       "\t 3.01 & Premium   & I & SI2 & 60.2 & 59 & 18242 &  9.36 &  9.31 & 5.62\\\\\n",
       "\t 3.01 & Fair      & I & SI2 & 65.8 & 56 & 18242 &  8.99 &  8.94 & 5.90\\\\\n",
       "\t 3.01 & Fair      & I & SI2 & 65.8 & 56 & 18242 &  8.99 &  8.94 & 5.90\\\\\n",
       "\t 3.01 & Good      & I & SI2 & 63.9 & 60 & 18242 &  9.06 &  9.01 & 5.77\\\\\n",
       "\t 3.01 & Good      & I & SI2 & 63.9 & 60 & 18242 &  9.06 &  9.01 & 5.77\\\\\n",
       "\t 4.50 & Fair      & J & I1  & 65.8 & 58 & 18531 & 10.23 & 10.16 & 6.72\\\\\n",
       "\t 3.04 & Premium   & I & SI2 & 59.3 & 60 & 18559 &  9.51 &  9.46 & 5.62\\\\\n",
       "\t 3.01 & Good      & H & SI2 & 57.6 & 64 & 18593 &  9.44 &  9.38 & 5.42\\\\\n",
       "\t 3.51 & Premium   & J & VS2 & 62.5 & 59 & 18701 &  9.66 &  9.63 & 6.03\\\\\n",
       "\t 3.01 & Premium   & J & SI2 & 60.7 & 59 & 18710 &  9.35 &  9.22 & 5.64\\\\\n",
       "\t 3.01 & Premium   & J & SI2 & 59.7 & 58 & 18710 &  9.41 &  9.32 & 5.59\\\\\n",
       "\\end{tabular}\n"
      ],
      "text/markdown": [
       "\n",
       "A tibble: 32 × 10\n",
       "\n",
       "| carat &lt;dbl&gt; | cut &lt;ord&gt; | color &lt;ord&gt; | clarity &lt;ord&gt; | depth &lt;dbl&gt; | table &lt;dbl&gt; | price &lt;int&gt; | x &lt;dbl&gt; | y &lt;dbl&gt; | z &lt;dbl&gt; |\n",
       "|---|---|---|---|---|---|---|---|---|---|\n",
       "| 3.01 | Premium   | I | I1  | 62.7 | 58 |  8040 |  9.10 |  8.97 | 5.67 |\n",
       "| 3.11 | Fair      | J | I1  | 65.9 | 57 |  9823 |  9.15 |  9.02 | 5.98 |\n",
       "| 3.01 | Premium   | F | I1  | 62.2 | 56 |  9925 |  9.24 |  9.13 | 5.73 |\n",
       "| 3.05 | Premium   | E | I1  | 60.9 | 58 | 10453 |  9.26 |  9.25 | 5.66 |\n",
       "| 3.02 | Fair      | I | I1  | 65.2 | 56 | 10577 |  9.11 |  9.02 | 5.91 |\n",
       "| 3.01 | Fair      | H | I1  | 56.1 | 62 | 10761 |  9.54 |  9.38 | 5.31 |\n",
       "| 3.65 | Fair      | H | I1  | 67.1 | 53 | 11668 |  9.53 |  9.48 | 6.38 |\n",
       "| 3.24 | Premium   | H | I1  | 62.1 | 58 | 12300 |  9.44 |  9.40 | 5.85 |\n",
       "| 3.22 | Ideal     | I | I1  | 62.6 | 55 | 12545 |  9.49 |  9.42 | 5.92 |\n",
       "| 3.50 | Ideal     | H | I1  | 62.8 | 57 | 12587 |  9.65 |  9.59 | 6.03 |\n",
       "| 3.01 | Premium   | G | SI2 | 59.8 | 58 | 14220 |  9.44 |  9.37 | 5.62 |\n",
       "| 4.01 | Premium   | I | I1  | 61.0 | 61 | 15223 | 10.14 | 10.10 | 6.17 |\n",
       "| 4.01 | Premium   | J | I1  | 62.5 | 62 | 15223 | 10.02 |  9.94 | 6.24 |\n",
       "| 3.04 | Very Good | I | SI2 | 63.2 | 59 | 15354 |  9.14 |  9.07 | 5.75 |\n",
       "| 3.40 | Fair      | D | I1  | 66.8 | 52 | 15964 |  9.42 |  9.34 | 6.27 |\n",
       "| 4.00 | Very Good | I | I1  | 63.3 | 58 | 15984 | 10.01 |  9.94 | 6.31 |\n",
       "| 3.01 | Ideal     | J | SI2 | 61.7 | 58 | 16037 |  9.25 |  9.20 | 5.69 |\n",
       "| 3.67 | Premium   | I | I1  | 62.4 | 56 | 16193 |  9.86 |  9.81 | 6.13 |\n",
       "| 3.01 | Ideal     | J | I1  | 65.4 | 60 | 16538 |  8.99 |  8.93 | 5.86 |\n",
       "| 4.13 | Fair      | H | I1  | 64.8 | 61 | 17329 | 10.00 |  9.85 | 6.43 |\n",
       "| 5.01 | Fair      | J | I1  | 65.5 | 59 | 18018 | 10.74 | 10.54 | 6.98 |\n",
       "| 3.01 | Premium   | I | SI2 | 60.2 | 59 | 18242 |  9.36 |  9.31 | 5.62 |\n",
       "| 3.01 | Fair      | I | SI2 | 65.8 | 56 | 18242 |  8.99 |  8.94 | 5.90 |\n",
       "| 3.01 | Fair      | I | SI2 | 65.8 | 56 | 18242 |  8.99 |  8.94 | 5.90 |\n",
       "| 3.01 | Good      | I | SI2 | 63.9 | 60 | 18242 |  9.06 |  9.01 | 5.77 |\n",
       "| 3.01 | Good      | I | SI2 | 63.9 | 60 | 18242 |  9.06 |  9.01 | 5.77 |\n",
       "| 4.50 | Fair      | J | I1  | 65.8 | 58 | 18531 | 10.23 | 10.16 | 6.72 |\n",
       "| 3.04 | Premium   | I | SI2 | 59.3 | 60 | 18559 |  9.51 |  9.46 | 5.62 |\n",
       "| 3.01 | Good      | H | SI2 | 57.6 | 64 | 18593 |  9.44 |  9.38 | 5.42 |\n",
       "| 3.51 | Premium   | J | VS2 | 62.5 | 59 | 18701 |  9.66 |  9.63 | 6.03 |\n",
       "| 3.01 | Premium   | J | SI2 | 60.7 | 59 | 18710 |  9.35 |  9.22 | 5.64 |\n",
       "| 3.01 | Premium   | J | SI2 | 59.7 | 58 | 18710 |  9.41 |  9.32 | 5.59 |\n",
       "\n"
      ],
      "text/plain": [
       "   carat cut       color clarity depth table price x     y     z   \n",
       "1  3.01  Premium   I     I1      62.7  58     8040  9.10  8.97 5.67\n",
       "2  3.11  Fair      J     I1      65.9  57     9823  9.15  9.02 5.98\n",
       "3  3.01  Premium   F     I1      62.2  56     9925  9.24  9.13 5.73\n",
       "4  3.05  Premium   E     I1      60.9  58    10453  9.26  9.25 5.66\n",
       "5  3.02  Fair      I     I1      65.2  56    10577  9.11  9.02 5.91\n",
       "6  3.01  Fair      H     I1      56.1  62    10761  9.54  9.38 5.31\n",
       "7  3.65  Fair      H     I1      67.1  53    11668  9.53  9.48 6.38\n",
       "8  3.24  Premium   H     I1      62.1  58    12300  9.44  9.40 5.85\n",
       "9  3.22  Ideal     I     I1      62.6  55    12545  9.49  9.42 5.92\n",
       "10 3.50  Ideal     H     I1      62.8  57    12587  9.65  9.59 6.03\n",
       "11 3.01  Premium   G     SI2     59.8  58    14220  9.44  9.37 5.62\n",
       "12 4.01  Premium   I     I1      61.0  61    15223 10.14 10.10 6.17\n",
       "13 4.01  Premium   J     I1      62.5  62    15223 10.02  9.94 6.24\n",
       "14 3.04  Very Good I     SI2     63.2  59    15354  9.14  9.07 5.75\n",
       "15 3.40  Fair      D     I1      66.8  52    15964  9.42  9.34 6.27\n",
       "16 4.00  Very Good I     I1      63.3  58    15984 10.01  9.94 6.31\n",
       "17 3.01  Ideal     J     SI2     61.7  58    16037  9.25  9.20 5.69\n",
       "18 3.67  Premium   I     I1      62.4  56    16193  9.86  9.81 6.13\n",
       "19 3.01  Ideal     J     I1      65.4  60    16538  8.99  8.93 5.86\n",
       "20 4.13  Fair      H     I1      64.8  61    17329 10.00  9.85 6.43\n",
       "21 5.01  Fair      J     I1      65.5  59    18018 10.74 10.54 6.98\n",
       "22 3.01  Premium   I     SI2     60.2  59    18242  9.36  9.31 5.62\n",
       "23 3.01  Fair      I     SI2     65.8  56    18242  8.99  8.94 5.90\n",
       "24 3.01  Fair      I     SI2     65.8  56    18242  8.99  8.94 5.90\n",
       "25 3.01  Good      I     SI2     63.9  60    18242  9.06  9.01 5.77\n",
       "26 3.01  Good      I     SI2     63.9  60    18242  9.06  9.01 5.77\n",
       "27 4.50  Fair      J     I1      65.8  58    18531 10.23 10.16 6.72\n",
       "28 3.04  Premium   I     SI2     59.3  60    18559  9.51  9.46 5.62\n",
       "29 3.01  Good      H     SI2     57.6  64    18593  9.44  9.38 5.42\n",
       "30 3.51  Premium   J     VS2     62.5  59    18701  9.66  9.63 6.03\n",
       "31 3.01  Premium   J     SI2     60.7  59    18710  9.35  9.22 5.64\n",
       "32 3.01  Premium   J     SI2     59.7  58    18710  9.41  9.32 5.59"
      ]
     },
     "metadata": {},
     "output_type": "display_data"
    }
   ],
   "source": [
    "# Fix\n",
    "filter(diamonds, carat > 3)"
   ]
  }
 ],
 "metadata": {
  "kernelspec": {
   "display_name": "R",
   "language": "R",
   "name": "ir"
  },
  "language_info": {
   "codemirror_mode": "r",
   "file_extension": ".r",
   "mimetype": "text/x-r-source",
   "name": "R",
   "pygments_lexer": "r",
   "version": "4.1.2"
  },
  "orig_nbformat": 4
 },
 "nbformat": 4,
 "nbformat_minor": 2
}
